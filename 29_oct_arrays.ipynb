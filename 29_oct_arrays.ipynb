{
 "cells": [
  {
   "cell_type": "raw",
   "id": "8cd598a9-09c6-40d9-8e47-769b37e3020b",
   "metadata": {},
   "source": [
    "1. Given an array, check if it contains any duplicates or not.\n",
    "arr = [1, 2, 4, 2, 5, 9]\n",
    "Output = True"
   ]
  },
  {
   "cell_type": "code",
   "execution_count": 1,
   "id": "b3ed7013-cb5b-4eea-b142-6dafa61eb617",
   "metadata": {},
   "outputs": [],
   "source": [
    "arr = [1, 2, 4, 2, 5, 9, 4]\n",
    "def check_duplicates(arr):\n",
    "    for i in range(len(arr)):\n",
    "        for j in range(i+1, len(arr)):\n",
    "            if arr[i] == arr[j]:\n",
    "                return True \n",
    "\n",
    "            "
   ]
  },
  {
   "cell_type": "code",
   "execution_count": 2,
   "id": "dbdd7f8c-0af9-4767-925e-2fe304a211e1",
   "metadata": {},
   "outputs": [
    {
     "data": {
      "text/plain": [
       "True"
      ]
     },
     "execution_count": 2,
     "metadata": {},
     "output_type": "execute_result"
    }
   ],
   "source": [
    "check_duplicates(arr)"
   ]
  },
  {
   "cell_type": "raw",
   "id": "4572763f-8136-4c0e-91b0-ab3b97aca6d7",
   "metadata": {},
   "source": [
    "2. Given an array and an integer k, rotate the array to the right by k steps.\n",
    "arr = [1, 2, 3, 4, 5, 6, 7] k = 3\n",
    "Output = [5, 6, 7, 1, 2, 3, 4]"
   ]
  },
  {
   "cell_type": "code",
   "execution_count": 3,
   "id": "b2cda73d-1fc1-4f42-9b4a-3f1d81a04a53",
   "metadata": {},
   "outputs": [],
   "source": [
    "def rotate(arr, k):\n",
    "    n = len(arr)\n",
    "    k = k%n\n",
    "\n",
    "    for i in range(n):\n",
    "        if i<k:\n",
    "            print(arr[n+i-k])\n",
    "        else:\n",
    "            print(arr[i-k])\n",
    "    "
   ]
  },
  {
   "cell_type": "code",
   "execution_count": 4,
   "id": "3f5829f6-15c3-415c-817c-c8c09e5eb6ab",
   "metadata": {},
   "outputs": [
    {
     "name": "stdout",
     "output_type": "stream",
     "text": [
      "5\n",
      "6\n",
      "7\n",
      "1\n",
      "2\n",
      "3\n",
      "4\n"
     ]
    }
   ],
   "source": [
    "arr = [1, 2, 3, 4, 5, 6, 7]\n",
    "k = 3\n",
    "rotate(arr, k)"
   ]
  },
  {
   "cell_type": "code",
   "execution_count": 5,
   "id": "4d65a406-5cda-47ca-ae2a-98f587caac19",
   "metadata": {},
   "outputs": [],
   "source": [
    "def rotate_right(arr, k):\n",
    "    l, r = 0, len(arr)-1\n",
    "    k = k%len(arr)\n",
    "    while l<r:\n",
    "        arr[l], arr[r] = arr[r], arr[l]\n",
    "        l, r = l+1, r-1\n",
    "        \n",
    "    l, r = 0, k-1\n",
    "    while l<r:\n",
    "        arr[l], arr[r] = arr[r], arr[l]\n",
    "        l, r = l+1, r-1\n",
    "        \n",
    "    l, r = k, len(arr)-1\n",
    "    while l<r:\n",
    "        arr[l], arr[r] = arr[r], arr[l]\n",
    "        l, r = l+1, r-1\n",
    "\n",
    "    return arr\n",
    "\n",
    "\n",
    "\n"
   ]
  },
  {
   "cell_type": "code",
   "execution_count": 6,
   "id": "447949ad-6f0d-4586-b9e6-2ee7d7f571da",
   "metadata": {},
   "outputs": [
    {
     "data": {
      "text/plain": [
       "[5, 6, 7, 1, 2, 3, 4]"
      ]
     },
     "execution_count": 6,
     "metadata": {},
     "output_type": "execute_result"
    }
   ],
   "source": [
    "arr = [1, 2, 3, 4, 5, 6, 7]\n",
    "k = 3\n",
    "rotate_right(arr, k)"
   ]
  },
  {
   "cell_type": "raw",
   "id": "fddf6922-1101-4d7d-9a93-24a5a266f4dc",
   "metadata": {},
   "source": [
    "3. Reverse the given array in-place, means without using any extra data structure.\n",
    "arr1 = [2, 4, 5, 7, 9, 12]\n",
    "Output = [12, 9, 7, 5, 4, 2]"
   ]
  },
  {
   "cell_type": "code",
   "execution_count": 7,
   "id": "4479ab28-a2eb-416c-994a-8a0e4e4dea79",
   "metadata": {},
   "outputs": [],
   "source": [
    "def reverse_arr(arr1):\n",
    "    l, r = 0, len(arr1)-1\n",
    "    while l<r:\n",
    "        arr1[l], arr1[r] = arr1[r], arr1[l]\n",
    "        l, r = l+1, r-1\n",
    "    return arr1"
   ]
  },
  {
   "cell_type": "code",
   "execution_count": 8,
   "id": "f198923c-35b2-4979-ac6a-92f74260afa7",
   "metadata": {},
   "outputs": [
    {
     "data": {
      "text/plain": [
       "[12, 9, 7, 5, 4, 2]"
      ]
     },
     "execution_count": 8,
     "metadata": {},
     "output_type": "execute_result"
    }
   ],
   "source": [
    "arr1 = [2, 4, 5, 7, 9, 12]\n",
    "reverse_arr(arr1)"
   ]
  },
  {
   "cell_type": "raw",
   "id": "232294e5-a8cb-459e-b768-daee500d7cd3",
   "metadata": {},
   "source": [
    "4. Given an array of integers, find the maximum element in an array\n",
    "arr2 = [10, 5, 20, 8, 15]\n",
    "Output = 20"
   ]
  },
  {
   "cell_type": "code",
   "execution_count": 9,
   "id": "ff2f494d-ef68-42c0-a2b8-9becafaffbc2",
   "metadata": {},
   "outputs": [],
   "source": [
    "def maximum_element(arr2):\n",
    "    max = arr2[0]\n",
    "    for i in range(len(arr2)-1):\n",
    "        if max < arr2[i+1]:\n",
    "            max = arr2[i+1]\n",
    "    return max"
   ]
  },
  {
   "cell_type": "code",
   "execution_count": 10,
   "id": "aa51ed63-2193-4900-8ae1-ae8b863ea796",
   "metadata": {},
   "outputs": [
    {
     "data": {
      "text/plain": [
       "20"
      ]
     },
     "execution_count": 10,
     "metadata": {},
     "output_type": "execute_result"
    }
   ],
   "source": [
    "arr2 = [10, 5, 20, 8, 15]\n",
    "maximum_element(arr2)"
   ]
  },
  {
   "cell_type": "raw",
   "id": "f2964fd2-3ec4-458c-b465-689a9c606ae3",
   "metadata": {},
   "source": [
    "5. Given a sorted array, remove the duplicate element without using any extra data structure.\n",
    "arr3 = [1, 1, 2, 2, 2, 3, 3, 4, 4, 4, 5, 5]\n",
    "Output = [1, 2, 3, 4, 5]"
   ]
  },
  {
   "cell_type": "code",
   "execution_count": 11,
   "id": "e5e6d80b-7212-455d-86f4-805f9de25ce2",
   "metadata": {},
   "outputs": [],
   "source": [
    "def remove_duplicate(arr3):\n",
    "    j = 1\n",
    "    for i in range(1, len(arr3)):\n",
    "        if arr3[i] != arr3[i-1]:\n",
    "            arr3[j] = arr3[i]\n",
    "            j+=1\n",
    "            \n",
    "    return j"
   ]
  },
  {
   "cell_type": "code",
   "execution_count": 12,
   "id": "357d6184-f9c5-4821-a92d-26df7f571dfc",
   "metadata": {},
   "outputs": [
    {
     "data": {
      "text/plain": [
       "5"
      ]
     },
     "execution_count": 12,
     "metadata": {},
     "output_type": "execute_result"
    }
   ],
   "source": [
    "arr3 = [1, 1, 2, 2, 2, 3, 3, 4, 4, 4, 5, 5]\n",
    "remove_duplicate(arr3)"
   ]
  },
  {
   "cell_type": "code",
   "execution_count": null,
   "id": "4b1b5a6f-9f1c-45ca-9052-bd4a37ee1dc2",
   "metadata": {},
   "outputs": [],
   "source": []
  }
 ],
 "metadata": {
  "kernelspec": {
   "display_name": "Python 3 (ipykernel)",
   "language": "python",
   "name": "python3"
  },
  "language_info": {
   "codemirror_mode": {
    "name": "ipython",
    "version": 3
   },
   "file_extension": ".py",
   "mimetype": "text/x-python",
   "name": "python",
   "nbconvert_exporter": "python",
   "pygments_lexer": "ipython3",
   "version": "3.11.5"
  }
 },
 "nbformat": 4,
 "nbformat_minor": 5
}
